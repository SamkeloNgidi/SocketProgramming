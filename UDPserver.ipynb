{
 "cells": [
  {
   "cell_type": "code",
   "execution_count": null,
   "metadata": {},
   "outputs": [
    {
     "name": "stdout",
     "output_type": "stream",
     "text": [
      "The server is ready to receive\n"
     ]
    }
   ],
   "source": [
    "from socket import *\n",
    "serverport = 12000\n",
    "serversocket = socket(AF_INET, SOCK_DGRAM)\n",
    "# assign the socket number of 12000 to the socket \n",
    "# this is so that any packets sent to port 12000 of this IP address, will come to this socket\n",
    "serversocket.bind(('127.0.0.1', serverport))\n",
    "print ('The server is ready to receive')\n",
    "# an infinite loop allows an indefinite number of packets to be received from client and processed\n",
    "# in  the loop, the server waits for  packet to arrive\n",
    "while True:\n",
    "    message, clientaddr = serversocket.recvfrom(2048)\n",
    "    modifiedmessage = message.decode().upper()\n",
    "    # note that the clientaddr is used when sedning packets back\n",
    "    serversocket.sendto(modifiedmessage.encode(), clientaddr)"
   ]
  },
  {
   "cell_type": "code",
   "execution_count": null,
   "metadata": {},
   "outputs": [],
   "source": []
  }
 ],
 "metadata": {
  "kernelspec": {
   "display_name": "Python 3",
   "language": "python",
   "name": "python3"
  },
  "language_info": {
   "codemirror_mode": {
    "name": "ipython",
    "version": 3
   },
   "file_extension": ".py",
   "mimetype": "text/x-python",
   "name": "python",
   "nbconvert_exporter": "python",
   "pygments_lexer": "ipython3",
   "version": "3.6.5"
  }
 },
 "nbformat": 4,
 "nbformat_minor": 2
}
