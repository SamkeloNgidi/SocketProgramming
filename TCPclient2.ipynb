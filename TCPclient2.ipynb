{
 "cells": [
  {
   "cell_type": "code",
   "execution_count": 1,
   "metadata": {},
   "outputs": [
    {
     "name": "stdout",
     "output_type": "stream",
     "text": [
      "Input an uppercase sentence: WOWOW\n",
      "From Server:  wowow\n",
      "From Server 2nd:  WOWOW\n"
     ]
    }
   ],
   "source": [
    "# import the socket library\n",
    "from socket import * \n",
    "# servername can be the hostname of the server or the IP address\n",
    "servername='127.0.0.1' \n",
    "# sets the server port number - use ports over 2000 as they are usually free\n",
    "serverport = 12000\n",
    "# creates a client socket called TCPsocket. (The OS creates the port for the client)\n",
    "# First parameter indicates the network uses IPv4 (Internet protocol version 4)\n",
    "# second paarmeter indicates it is a TCP socket\n",
    "TCPsocket = socket(AF_INET, SOCK_STREAM)  ##################################### Different\n",
    "# This is the code to perform a 3 way handshake with the server\n",
    "TCPsocket.connect ((servername, serverport))  ################################## additional code\n",
    "# this will prompt the user on the client to enter a message \n",
    "# to be stored in message\n",
    "msg = input('Input an uppercase sentence: ')  \n",
    "# method send, sends the msg into the TCP connection established in the handshake\n",
    "# there is no need for server IP address and port as the TCP connection has established that\n",
    "# the function .encode() converts the message to BYTES\n",
    "# the source address is automatically attached to the address\n",
    "TCPsocket.send(msg.encode())  #####this is the actual sending\n",
    "\n",
    "# the client waits until the server responds\n",
    "# the method recvfrom() gets data from the socket - the 2048 is the buffer size\n",
    "# when a packet of data is returned from the server, the data is put into newmsg variable\n",
    "\n",
    "newmsg = TCPsocket.recv(1024)\n",
    "#newmsg gets converted from bytes to a string with decode()\n",
    "print ('From Server: ', newmsg.decode())\n",
    "TCPsocket.send(newmsg)\n",
    "newmsg2 = TCPsocket.recv(1024)\n",
    "print ('From Server 2nd: ', newmsg2.decode())\n",
    "#the socket closes and the process terminates.\n",
    "TCPsocket.close()"
   ]
  },
  {
   "cell_type": "code",
   "execution_count": null,
   "metadata": {},
   "outputs": [],
   "source": []
  },
  {
   "cell_type": "code",
   "execution_count": null,
   "metadata": {},
   "outputs": [],
   "source": []
  }
 ],
 "metadata": {
  "kernelspec": {
   "display_name": "Python 3",
   "language": "python",
   "name": "python3"
  },
  "language_info": {
   "codemirror_mode": {
    "name": "ipython",
    "version": 3
   },
   "file_extension": ".py",
   "mimetype": "text/x-python",
   "name": "python",
   "nbconvert_exporter": "python",
   "pygments_lexer": "ipython3",
   "version": "3.6.5"
  }
 },
 "nbformat": 4,
 "nbformat_minor": 2
}
