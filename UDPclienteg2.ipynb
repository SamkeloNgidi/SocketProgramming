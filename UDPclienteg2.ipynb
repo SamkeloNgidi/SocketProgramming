{
 "cells": [
  {
   "cell_type": "code",
   "execution_count": 5,
   "metadata": {},
   "outputs": [
    {
     "name": "stdout",
     "output_type": "stream",
     "text": [
      "My answer:  THIS IS IN THE EXAM\n"
     ]
    }
   ],
   "source": [
    "from socket import * \n",
    "servername='127.0.0.1' \n",
    "serverport = 12001\n",
    "UDPsocket = socket(AF_INET, SOCK_DGRAM) \n",
    "value = 'this is in the exam'\n",
    "UDPsocket.sendto(value.encode(), (servername, serverport))\n",
    "newval, serveradd = UDPsocket.recvfrom(2048)\n",
    "print ('My answer: ', newval.decode())\n",
    "#the socket closes and the process terminates.\n",
    "UDPsocket.close()"
   ]
  },
  {
   "cell_type": "code",
   "execution_count": null,
   "metadata": {},
   "outputs": [],
   "source": []
  }
 ],
 "metadata": {
  "kernelspec": {
   "display_name": "Python 3",
   "language": "python",
   "name": "python3"
  },
  "language_info": {
   "codemirror_mode": {
    "name": "ipython",
    "version": 3
   },
   "file_extension": ".py",
   "mimetype": "text/x-python",
   "name": "python",
   "nbconvert_exporter": "python",
   "pygments_lexer": "ipython3",
   "version": "3.6.5"
  }
 },
 "nbformat": 4,
 "nbformat_minor": 2
}
