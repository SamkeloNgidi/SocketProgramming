{
 "cells": [
  {
   "cell_type": "code",
   "execution_count": 1,
   "metadata": {},
   "outputs": [
    {
     "name": "stdout",
     "output_type": "stream",
     "text": [
      "Input a lowercase sentence: this will be examined\n",
      "From Server:  THIS WILL BE EXAMINED\n"
     ]
    }
   ],
   "source": [
    "# import the socket library\n",
    "from socket import * \n",
    "# servername can be the hostname of the server or the IP address\n",
    "servername='127.0.0.1' \n",
    "# sets the server port number - use ports over 2000 as they are usually free\n",
    "serverport = 12000\n",
    "# creates a client socket called UDPsocket. (The OS creates the port for the client)\n",
    "# First parameter indicates the network uses IPv4 (Internet protocol version 4)\n",
    "# second paarmeter indicates it is a UDP socket\n",
    "UDPsocket = socket(AF_INET, SOCK_DGRAM) \n",
    "\n",
    "# this will prompt the user on the client to enter a message \n",
    "# to be stored in message\n",
    "msg = input('Input a lowercase sentence: ')  \n",
    "# method sendto, creates a packet of data by joining the msg to the Ip addr and port # of the server \n",
    "# the function .encode() convert the message to BYTES\n",
    "# the source address is automatically attached to the address\n",
    "UDPsocket.sendto(msg.encode(), (servername, serverport))  #####this is the actual sending of the packet\n",
    "\n",
    "# the client waits until the server responds\n",
    "# the method recvfrom() gets data from the socket - the 2048 is the buffer size\n",
    "# when a packet of data is returned from the server, the data is put into newmsg variable\n",
    "# the source address is put into serveradd variable - includes both the IP address and the port\n",
    "newmsg, serveradd = UDPsocket.recvfrom(2048)\n",
    "#newMessage gets converted from bytes to a string with decode()\n",
    "print ('From Server: ', newmsg.decode())\n",
    "#the socket closes and the process terminates.\n",
    "UDPsocket.close()"
   ]
  },
  {
   "cell_type": "code",
   "execution_count": null,
   "metadata": {},
   "outputs": [],
   "source": []
  }
 ],
 "metadata": {
  "kernelspec": {
   "display_name": "Python 3",
   "language": "python",
   "name": "python3"
  },
  "language_info": {
   "codemirror_mode": {
    "name": "ipython",
    "version": 3
   },
   "file_extension": ".py",
   "mimetype": "text/x-python",
   "name": "python",
   "nbconvert_exporter": "python",
   "pygments_lexer": "ipython3",
   "version": "3.6.5"
  }
 },
 "nbformat": 4,
 "nbformat_minor": 2
}
