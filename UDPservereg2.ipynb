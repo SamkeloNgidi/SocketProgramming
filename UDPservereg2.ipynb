{
 "cells": [
  {
   "cell_type": "code",
   "execution_count": null,
   "metadata": {},
   "outputs": [
    {
     "name": "stdout",
     "output_type": "stream",
     "text": [
      "The server is ready to receive\n",
      "Hello\n",
      "HELLO\n",
      "vvvvvvvvv\n",
      "VVVVVVVVV\n",
      "this is in the exam\n",
      "THIS IS IN THE EXAM\n"
     ]
    }
   ],
   "source": [
    "from socket import *\n",
    "serverport = 12001\n",
    "serversocket = socket(AF_INET, SOCK_DGRAM)\n",
    "serversocket.bind(('127.0.0.1', serverport))\n",
    "print ('The server is ready to receive')\n",
    "while True:\n",
    "    value, clientaddr = serversocket.recvfrom(2048)\n",
    "    print (value.decode())\n",
    "    newval = value.decode().upper()\n",
    "    print (newval.upper())\n",
    "    serversocket.sendto(newval.encode(), clientaddr)"
   ]
  },
  {
   "cell_type": "code",
   "execution_count": null,
   "metadata": {},
   "outputs": [],
   "source": []
  }
 ],
 "metadata": {
  "kernelspec": {
   "display_name": "Python 3",
   "language": "python",
   "name": "python3"
  },
  "language_info": {
   "codemirror_mode": {
    "name": "ipython",
    "version": 3
   },
   "file_extension": ".py",
   "mimetype": "text/x-python",
   "name": "python",
   "nbconvert_exporter": "python",
   "pygments_lexer": "ipython3",
   "version": "3.6.5"
  }
 },
 "nbformat": 4,
 "nbformat_minor": 2
}
