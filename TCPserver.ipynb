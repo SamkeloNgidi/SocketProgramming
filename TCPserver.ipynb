{
 "cells": [
  {
   "cell_type": "code",
   "execution_count": null,
   "metadata": {},
   "outputs": [
    {
     "name": "stdout",
     "output_type": "stream",
     "text": [
      "The server is ready to receive\n"
     ]
    }
   ],
   "source": [
    "from socket import *\n",
    "serverport = 12000\n",
    "serversocket = socket(AF_INET, SOCK_STREAM)\n",
    "# assign the socket number of 12001 to the socket \n",
    "# this is so that any packets sent to port 12001 of this IP address, will come to this socket\n",
    "serversocket.bind(('127.0.0.1', serverport))   ### this is the welcoming socket in the 1st part of the handshake\n",
    "# the server waits and listens for a TCP connection request from a client\n",
    "# 1 indicates the max  number of queued connections\n",
    "serversocket.listen(1)      \n",
    "print ('The server is ready to receive')\n",
    "# an infinite loop allows an indefinite number of TCP connection requests from clients\n",
    "while True:\n",
    "    connectsocket, addr = serversocket.accept() # when a TCP client \"knocks\" at the door, \n",
    "                                                # the server program invokes the accept() method which \n",
    "                                                # creates a new socketfor that client\n",
    "    sentence = connectsocket.recv(1024).decode()\n",
    "    modsentence = sentence.lower()\n",
    "    # note that the clientaddr is used when sedning packets back\n",
    "    connectsocket.send(modsentence.encode())\n",
    "    connectsocket.close()"
   ]
  },
  {
   "cell_type": "code",
   "execution_count": null,
   "metadata": {},
   "outputs": [],
   "source": []
  },
  {
   "cell_type": "code",
   "execution_count": null,
   "metadata": {},
   "outputs": [],
   "source": []
  },
  {
   "cell_type": "code",
   "execution_count": null,
   "metadata": {},
   "outputs": [],
   "source": []
  },
  {
   "cell_type": "code",
   "execution_count": null,
   "metadata": {},
   "outputs": [],
   "source": []
  },
  {
   "cell_type": "code",
   "execution_count": null,
   "metadata": {},
   "outputs": [],
   "source": []
  }
 ],
 "metadata": {
  "kernelspec": {
   "display_name": "Python 3",
   "language": "python",
   "name": "python3"
  },
  "language_info": {
   "codemirror_mode": {
    "name": "ipython",
    "version": 3
   },
   "file_extension": ".py",
   "mimetype": "text/x-python",
   "name": "python",
   "nbconvert_exporter": "python",
   "pygments_lexer": "ipython3",
   "version": "3.6.5"
  }
 },
 "nbformat": 4,
 "nbformat_minor": 2
}
